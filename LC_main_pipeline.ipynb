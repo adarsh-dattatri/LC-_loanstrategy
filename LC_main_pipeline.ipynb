{
 "cells": [
  {
   "cell_type": "code",
   "execution_count": 2,
   "metadata": {},
   "outputs": [],
   "source": [
    "import pandas as pd"
   ]
  },
  {
   "cell_type": "code",
   "execution_count": 3,
   "metadata": {},
   "outputs": [],
   "source": [
    "import numpy as np"
   ]
  },
  {
   "cell_type": "code",
   "execution_count": 4,
   "metadata": {},
   "outputs": [
    {
     "data": {
      "text/html": [
       "<style>.container { width:100% !important; }</style>"
      ],
      "text/plain": [
       "<IPython.core.display.HTML object>"
      ]
     },
     "metadata": {},
     "output_type": "display_data"
    }
   ],
   "source": [
    "from IPython.core.display import display, HTML\n",
    "display(HTML(\"<style>.container { width:100% !important; }</style>\"))"
   ]
  },
  {
   "cell_type": "code",
   "execution_count": 5,
   "metadata": {},
   "outputs": [],
   "source": [
    "%reload_ext autoreload\n",
    "%autoreload 2"
   ]
  },
  {
   "cell_type": "code",
   "execution_count": 6,
   "metadata": {},
   "outputs": [],
   "source": [
    "%load_ext blackcellmagic"
   ]
  },
  {
   "cell_type": "code",
   "execution_count": 7,
   "metadata": {},
   "outputs": [
    {
     "name": "stderr",
     "output_type": "stream",
     "text": [
      "/home/adarsh/anaconda3/envs/pycaret_test/lib/python3.6/site-packages/IPython/core/interactiveshell.py:3063: DtypeWarning: Columns (19,47,55,112,123,124,125,128,129,130,133,139,140,141) have mixed types.Specify dtype option on import or set low_memory=False.\n",
      "  interactivity=interactivity, compiler=compiler, result=result)\n"
     ]
    }
   ],
   "source": [
    "df_loans_backup = pd.read_csv('/home/adarsh/dattada/jupyter/loan-data/loan.csv')"
   ]
  },
  {
   "cell_type": "code",
   "execution_count": 146,
   "metadata": {},
   "outputs": [],
   "source": [
    "df_loans = df_loans_backup.copy(deep = True)"
   ]
  },
  {
   "cell_type": "code",
   "execution_count": 57,
   "metadata": {},
   "outputs": [],
   "source": [
    "import preprocess as pre"
   ]
  },
  {
   "cell_type": "code",
   "execution_count": 58,
   "metadata": {},
   "outputs": [],
   "source": [
    "import EDA as eda"
   ]
  },
  {
   "cell_type": "code",
   "execution_count": 59,
   "metadata": {},
   "outputs": [],
   "source": [
    "import feature_engineering as fe"
   ]
  },
  {
   "cell_type": "code",
   "execution_count": 147,
   "metadata": {},
   "outputs": [],
   "source": [
    "df_loans = df_loans[df_loans['application_type'] == 'Individual']"
   ]
  },
  {
   "cell_type": "code",
   "execution_count": 148,
   "metadata": {},
   "outputs": [],
   "source": [
    "date_columns = ['issue_d','earliest_cr_line']"
   ]
  },
  {
   "cell_type": "code",
   "execution_count": 149,
   "metadata": {},
   "outputs": [],
   "source": [
    "df_loans = pre.object_to_date(df_loans,columns = date_columns)"
   ]
  },
  {
   "cell_type": "code",
   "execution_count": 150,
   "metadata": {},
   "outputs": [],
   "source": [
    "df_loans = pre.vintage_selection_for_modeling(df_loans)"
   ]
  },
  {
   "cell_type": "code",
   "execution_count": 151,
   "metadata": {},
   "outputs": [],
   "source": [
    "cat_columns = [\n",
    "    \"grade\",\n",
    "    \"home_ownership\",\n",
    "    \"addr_state\",\n",
    "    \"sub_grade\",\n",
    "    \"verification_status\",\n",
    "    \"purpose\",\n",
    "    \"initial_list_status\",\n",
    "    \"term\"\n",
    "]"
   ]
  },
  {
   "cell_type": "code",
   "execution_count": 152,
   "metadata": {},
   "outputs": [],
   "source": [
    "numeric_columns = [\n",
    "    \"installment\",\n",
    "    \"delinq_2yrs\",\n",
    "    \"inq_last_6mths\",\n",
    "    \"open_acc\",\n",
    "    \"pub_rec\",\n",
    "    \"total_acc\",\n",
    "    \"acc_now_delinq\",\n",
    "    \"annual_inc\",\n",
    "    \"mths_since_last_delinq\",\n",
    "    \"dti\",\n",
    "    \"mths_since_last_record\",\n",
    "    \"int_rate\",\n",
    "    \"emp_length\",\n",
    "    \"mths_since_earliest_cr_line\"\n",
    "]"
   ]
  },
  {
   "cell_type": "code",
   "execution_count": 153,
   "metadata": {},
   "outputs": [],
   "source": [
    "df_loans['good_bad'] = pre.good_bad_definition(df_loans['loan_status'])"
   ]
  },
  {
   "cell_type": "code",
   "execution_count": 154,
   "metadata": {},
   "outputs": [],
   "source": [
    "df_loans['mths_since_earliest_cr_line'] = round((df_loans['issue_d_date'] - df_loans['earliest_cr_line_date'])/np.timedelta64(1,'M'))"
   ]
  },
  {
   "cell_type": "code",
   "execution_count": 155,
   "metadata": {},
   "outputs": [],
   "source": [
    "df_loans = df_loans[date_columns + cat_columns + numeric_columns + ['good_bad','issue_d_date','funded_amnt','recoveries','total_rec_prncp','loan_status']]"
   ]
  },
  {
   "cell_type": "code",
   "execution_count": 69,
   "metadata": {},
   "outputs": [],
   "source": [
    "df_loans = pre.emp_length_to_numeric(df_loans)"
   ]
  },
  {
   "cell_type": "code",
   "execution_count": 70,
   "metadata": {},
   "outputs": [],
   "source": [
    "df_loans = fe.get_dummies(df_loans,'addr_state')"
   ]
  },
  {
   "cell_type": "code",
   "execution_count": 71,
   "metadata": {},
   "outputs": [],
   "source": [
    "df_loans = fe.get_dummies(df_loans,'home_ownership')"
   ]
  },
  {
   "cell_type": "code",
   "execution_count": 72,
   "metadata": {},
   "outputs": [],
   "source": [
    "df_loans = fe.get_dummies(df_loans,'sub_grade')"
   ]
  },
  {
   "cell_type": "code",
   "execution_count": 73,
   "metadata": {},
   "outputs": [],
   "source": [
    "df_loans = fe.get_dummies(df_loans,'purpose',sep = ':')"
   ]
  },
  {
   "cell_type": "code",
   "execution_count": 74,
   "metadata": {},
   "outputs": [],
   "source": [
    "df_loans = fe.get_dummies(df_loans,'grade')"
   ]
  },
  {
   "cell_type": "code",
   "execution_count": 75,
   "metadata": {},
   "outputs": [],
   "source": [
    "df_loans = fe.get_dummies(df_loans,'verification_status',sep = ':')"
   ]
  },
  {
   "cell_type": "code",
   "execution_count": 76,
   "metadata": {},
   "outputs": [],
   "source": [
    "df_loans = fe.get_dummies(df_loans,'initial_list_status')"
   ]
  },
  {
   "cell_type": "code",
   "execution_count": 77,
   "metadata": {},
   "outputs": [],
   "source": [
    "df_loans = fe.get_dummies(df_loans,'term',sep = ':')"
   ]
  },
  {
   "cell_type": "code",
   "execution_count": 78,
   "metadata": {},
   "outputs": [],
   "source": [
    "df_loans = fe.coarse_class_discrete_variables(df_loans)"
   ]
  },
  {
   "cell_type": "code",
   "execution_count": 79,
   "metadata": {},
   "outputs": [],
   "source": [
    "\n",
    "df_loans['total_acc'].fillna(0, inplace=True)\n",
    "df_loans['pub_rec'].fillna(0, inplace=True)\n",
    "df_loans['open_acc'].fillna(0, inplace=True)\n",
    "df_loans['inq_last_6mths'].fillna(0, inplace=True)\n",
    "df_loans['delinq_2yrs'].fillna(0, inplace=True)\n",
    "df_loans['emp_length'].fillna(0, inplace=True)"
   ]
  },
  {
   "cell_type": "code",
   "execution_count": 80,
   "metadata": {},
   "outputs": [],
   "source": [
    "df_loans['annual_inc'].fillna(df_loans['annual_inc'].mean(), inplace=True)"
   ]
  },
  {
   "cell_type": "code",
   "execution_count": 81,
   "metadata": {},
   "outputs": [],
   "source": [
    "df_loans['mths_since_earliest_cr_line'].fillna(0, inplace=True)"
   ]
  },
  {
   "cell_type": "code",
   "execution_count": 82,
   "metadata": {},
   "outputs": [],
   "source": [
    "df_loans = fe.coarse_class_continuous_variables(df_loans)"
   ]
  },
  {
   "cell_type": "code",
   "execution_count": 83,
   "metadata": {},
   "outputs": [
    {
     "data": {
      "text/plain": [
       "(1501690, 156)"
      ]
     },
     "execution_count": 83,
     "metadata": {},
     "output_type": "execute_result"
    }
   ],
   "source": [
    "df_loans.shape"
   ]
  },
  {
   "cell_type": "code",
   "execution_count": 85,
   "metadata": {},
   "outputs": [],
   "source": [
    "df_loans.drop(drop_more_columns,axis = 1, inplace = True)"
   ]
  },
  {
   "cell_type": "code",
   "execution_count": 86,
   "metadata": {},
   "outputs": [
    {
     "data": {
      "text/plain": [
       "['good_bad',\n",
       " 'issue_d_date',\n",
       " 'addr_state_DC',\n",
       " 'addr_state_LA',\n",
       " 'addr_state_ME',\n",
       " 'addr_state_MO',\n",
       " 'addr_state_MT',\n",
       " 'addr_state_NH',\n",
       " 'addr_state_OH',\n",
       " 'addr_state_OR',\n",
       " 'addr_state_SD',\n",
       " 'addr_state_TX',\n",
       " 'addr_state_VT',\n",
       " 'home_ownership_MORTGAGE',\n",
       " 'sub_grade_A1',\n",
       " 'sub_grade_A2',\n",
       " 'sub_grade_A3',\n",
       " 'sub_grade_A4',\n",
       " 'sub_grade_A5',\n",
       " 'sub_grade_B1',\n",
       " 'sub_grade_B2',\n",
       " 'sub_grade_B3',\n",
       " 'sub_grade_B4',\n",
       " 'sub_grade_B5',\n",
       " 'sub_grade_C1',\n",
       " 'sub_grade_C2',\n",
       " 'sub_grade_C3',\n",
       " 'sub_grade_C4',\n",
       " 'sub_grade_C5',\n",
       " 'sub_grade_D1',\n",
       " 'sub_grade_D2',\n",
       " 'sub_grade_D3',\n",
       " 'sub_grade_D4',\n",
       " 'sub_grade_D5',\n",
       " 'sub_grade_E1',\n",
       " 'sub_grade_E2',\n",
       " 'sub_grade_E3',\n",
       " 'sub_grade_E4',\n",
       " 'sub_grade_E5',\n",
       " 'sub_grade_F1',\n",
       " 'sub_grade_F2',\n",
       " 'sub_grade_F3',\n",
       " 'sub_grade_F4',\n",
       " 'purpose:credit_card',\n",
       " 'purpose:debt_consolidation',\n",
       " 'purpose:medical',\n",
       " 'purpose:other',\n",
       " 'purpose:small_business',\n",
       " 'purpose:vacation',\n",
       " 'grade_A',\n",
       " 'grade_B',\n",
       " 'grade_C',\n",
       " 'grade_D',\n",
       " 'grade_E',\n",
       " 'grade_F',\n",
       " 'grade_G',\n",
       " 'verification_status:Not Verified',\n",
       " 'verification_status:Source Verified',\n",
       " 'verification_status:Verified',\n",
       " 'initial_list_status_f',\n",
       " 'initial_list_status_w',\n",
       " 'term: 36 months',\n",
       " 'term: 60 months',\n",
       " 'addr_state:IA_MS',\n",
       " 'addr_state:AR_AL_NV_NE_OK',\n",
       " 'addr_state:FL_TN',\n",
       " 'addr_state:NY_NM',\n",
       " 'addr_state:HI_MD_IN_NJ_KY_NC_PA',\n",
       " 'addr_state:CA_MI_AZ_VA',\n",
       " 'addr_state:DE_MN_AK',\n",
       " 'addr_state:MA_UT_RI_ND_ID_GA',\n",
       " 'addr_state:IL_WI',\n",
       " 'addr_state:WA_CT',\n",
       " 'addr_state:SC_WV_CO_WY_KS',\n",
       " 'home_ownership:OTHER_RENT',\n",
       " 'home_ownership:NONE_ANY_OWN',\n",
       " 'sub_grade:G5_G3_G1_G2_F5_G4',\n",
       " 'purpose:ed_re_mo_ho',\n",
       " 'purpose:mp_hi',\n",
       " 'purpose:wedding_car',\n",
       " 'emp_length:0',\n",
       " 'emp_length:1',\n",
       " 'emp_length:2-4',\n",
       " 'emp_length:5-6',\n",
       " 'emp_length:7-9',\n",
       " 'emp_length:10',\n",
       " 'int_rate:<9.548',\n",
       " 'int_rate:9.548-12.025',\n",
       " 'int_rate:12.025-15.74',\n",
       " 'int_rate:15.74-20.281',\n",
       " 'int_rate:>20.281',\n",
       " 'mths_since_earliest_cr_line:<140',\n",
       " 'mths_since_earliest_cr_line:141-164',\n",
       " 'mths_since_earliest_cr_line:165-247',\n",
       " 'mths_since_earliest_cr_line:248-270',\n",
       " 'mths_since_earliest_cr_line:271-352',\n",
       " 'mths_since_earliest_cr_line:>352',\n",
       " 'delinq_2yrs:0',\n",
       " 'delinq_2yrs:1-3',\n",
       " 'delinq_2yrs:>=4',\n",
       " 'inq_last_6mths:0',\n",
       " 'inq_last_6mths:1-2',\n",
       " 'inq_last_6mths:3-6',\n",
       " 'inq_last_6mths:>6',\n",
       " 'open_acc:0',\n",
       " 'open_acc:1-3',\n",
       " 'open_acc:4-12',\n",
       " 'open_acc:13-17',\n",
       " 'open_acc:18-22',\n",
       " 'open_acc:23-25',\n",
       " 'open_acc:26-30',\n",
       " 'open_acc:>=31',\n",
       " 'pub_rec:0-2',\n",
       " 'pub_rec:3-4',\n",
       " 'pub_rec:>=5',\n",
       " 'total_acc:<=27',\n",
       " 'total_acc:28-51',\n",
       " 'total_acc:>=52',\n",
       " 'annual_inc:<20K',\n",
       " 'annual_inc:20K-30K',\n",
       " 'annual_inc:30K-40K',\n",
       " 'annual_inc:40K-50K',\n",
       " 'annual_inc:50K-60K',\n",
       " 'annual_inc:60K-70K',\n",
       " 'annual_inc:70K-80K',\n",
       " 'annual_inc:80K-90K',\n",
       " 'annual_inc:90K-100K',\n",
       " 'annual_inc:100K-120K',\n",
       " 'annual_inc:120K-140K',\n",
       " 'annual_inc:>140K',\n",
       " 'mths_since_last_delinq:Missing',\n",
       " 'mths_since_last_delinq:0-3',\n",
       " 'mths_since_last_delinq:4-30',\n",
       " 'mths_since_last_delinq:31-56',\n",
       " 'mths_since_last_delinq:>=57',\n",
       " 'dti:<=1.4',\n",
       " 'dti:1.4-3.5',\n",
       " 'dti:3.5-7.7',\n",
       " 'dti:7.7-10.5',\n",
       " 'dti:10.5-16.1',\n",
       " 'dti:16.1-20.3',\n",
       " 'dti:20.3-21.7',\n",
       " 'dti:21.7-22.4',\n",
       " 'dti:22.4-35',\n",
       " 'dti:>35',\n",
       " 'mths_since_last_record:Missing',\n",
       " 'mths_since_last_record:0-2',\n",
       " 'mths_since_last_record:3-20',\n",
       " 'mths_since_last_record:21-31',\n",
       " 'mths_since_last_record:32-80',\n",
       " 'mths_since_last_record:81-86',\n",
       " 'mths_since_last_record:>86']"
      ]
     },
     "execution_count": 86,
     "metadata": {},
     "output_type": "execute_result"
    }
   ],
   "source": [
    "list(df_loans.columns)"
   ]
  },
  {
   "cell_type": "code",
   "execution_count": 87,
   "metadata": {},
   "outputs": [],
   "source": [
    "ref_categories = ['grade_G',\n",
    "'home_ownership:OTHER_RENT',\n",
    "'addr_state:IA_MS',\n",
    "'verification_status:Verified',\n",
    "'purpose:ed_re_mo_ho',\n",
    "'initial_list_status_f',\n",
    "'term: 60 months',\n",
    "'emp_length:0',\n",
    "'int_rate:>20.281',\n",
    "'mths_since_earliest_cr_line:<140',\n",
    "'delinq_2yrs:>=4',\n",
    "'inq_last_6mths:>6',\n",
    "'open_acc:0',\n",
    "'pub_rec:0-2',\n",
    "'total_acc:<=27',\n",
    "'annual_inc:<20K',\n",
    "'dti:>35',\n",
    "'mths_since_last_delinq:0-3',\n",
    "'mths_since_last_record:0-2']"
   ]
  },
  {
   "cell_type": "code",
   "execution_count": 88,
   "metadata": {},
   "outputs": [],
   "source": [
    "df_loans.drop(ref_categories,axis = 1,inplace = True)"
   ]
  },
  {
   "cell_type": "code",
   "execution_count": 89,
   "metadata": {
    "tags": [
     "trainin_test"
    ]
   },
   "outputs": [],
   "source": [
    "is_OOT_36_months = (df_loans['issue_d_date'].dt.year == 2017) & (df_loans['term: 36 months'] == 1)\n",
    "is_OOT_60_months = (df_loans['issue_d_date'].dt.year == 2015) & (df_loans['term: 36 months'] == 0)"
   ]
  },
  {
   "cell_type": "code",
   "execution_count": 90,
   "metadata": {},
   "outputs": [],
   "source": [
    "df_OOT_loans = df_loans[is_OOT_36_months|is_OOT_60_months]"
   ]
  },
  {
   "cell_type": "code",
   "execution_count": 91,
   "metadata": {},
   "outputs": [],
   "source": [
    "df_loans = df_loans[~(is_OOT_36_months|is_OOT_60_months)]"
   ]
  },
  {
   "cell_type": "code",
   "execution_count": 92,
   "metadata": {},
   "outputs": [],
   "source": [
    "drop_more_columns = ['issue_d','earliest_cr_line','installment','acc_now_delinq','issue_d_date']"
   ]
  },
  {
   "cell_type": "code",
   "execution_count": 93,
   "metadata": {},
   "outputs": [],
   "source": [
    "df_loans.drop(drop_more_columns,axis = 1, inplace = True)"
   ]
  },
  {
   "cell_type": "code",
   "execution_count": 106,
   "metadata": {},
   "outputs": [],
   "source": [
    "df_OOT_loans.drop(drop_more_columns,axis = 1, inplace = True)"
   ]
  },
  {
   "cell_type": "code",
   "execution_count": 94,
   "metadata": {},
   "outputs": [
    {
     "data": {
      "text/plain": [
       "['good_bad',\n",
       " 'addr_state_DC',\n",
       " 'addr_state_LA',\n",
       " 'addr_state_ME',\n",
       " 'addr_state_MO',\n",
       " 'addr_state_MT',\n",
       " 'addr_state_NH',\n",
       " 'addr_state_OH',\n",
       " 'addr_state_OR',\n",
       " 'addr_state_SD',\n",
       " 'addr_state_TX',\n",
       " 'addr_state_VT',\n",
       " 'home_ownership_MORTGAGE',\n",
       " 'sub_grade_A1',\n",
       " 'sub_grade_A2',\n",
       " 'sub_grade_A3',\n",
       " 'sub_grade_A4',\n",
       " 'sub_grade_A5',\n",
       " 'sub_grade_B1',\n",
       " 'sub_grade_B2',\n",
       " 'sub_grade_B3',\n",
       " 'sub_grade_B4',\n",
       " 'sub_grade_B5',\n",
       " 'sub_grade_C1',\n",
       " 'sub_grade_C2',\n",
       " 'sub_grade_C3',\n",
       " 'sub_grade_C4',\n",
       " 'sub_grade_C5',\n",
       " 'sub_grade_D1',\n",
       " 'sub_grade_D2',\n",
       " 'sub_grade_D3',\n",
       " 'sub_grade_D4',\n",
       " 'sub_grade_D5',\n",
       " 'sub_grade_E1',\n",
       " 'sub_grade_E2',\n",
       " 'sub_grade_E3',\n",
       " 'sub_grade_E4',\n",
       " 'sub_grade_E5',\n",
       " 'sub_grade_F1',\n",
       " 'sub_grade_F2',\n",
       " 'sub_grade_F3',\n",
       " 'sub_grade_F4',\n",
       " 'purpose:credit_card',\n",
       " 'purpose:debt_consolidation',\n",
       " 'purpose:medical',\n",
       " 'purpose:other',\n",
       " 'purpose:small_business',\n",
       " 'purpose:vacation',\n",
       " 'grade_A',\n",
       " 'grade_B',\n",
       " 'grade_C',\n",
       " 'grade_D',\n",
       " 'grade_E',\n",
       " 'grade_F',\n",
       " 'verification_status:Not Verified',\n",
       " 'verification_status:Source Verified',\n",
       " 'initial_list_status_w',\n",
       " 'term: 36 months',\n",
       " 'addr_state:AR_AL_NV_NE_OK',\n",
       " 'addr_state:FL_TN',\n",
       " 'addr_state:NY_NM',\n",
       " 'addr_state:HI_MD_IN_NJ_KY_NC_PA',\n",
       " 'addr_state:CA_MI_AZ_VA',\n",
       " 'addr_state:DE_MN_AK',\n",
       " 'addr_state:MA_UT_RI_ND_ID_GA',\n",
       " 'addr_state:IL_WI',\n",
       " 'addr_state:WA_CT',\n",
       " 'addr_state:SC_WV_CO_WY_KS',\n",
       " 'home_ownership:NONE_ANY_OWN',\n",
       " 'sub_grade:G5_G3_G1_G2_F5_G4',\n",
       " 'purpose:mp_hi',\n",
       " 'purpose:wedding_car',\n",
       " 'emp_length:1',\n",
       " 'emp_length:2-4',\n",
       " 'emp_length:5-6',\n",
       " 'emp_length:7-9',\n",
       " 'emp_length:10',\n",
       " 'int_rate:<9.548',\n",
       " 'int_rate:9.548-12.025',\n",
       " 'int_rate:12.025-15.74',\n",
       " 'int_rate:15.74-20.281',\n",
       " 'mths_since_earliest_cr_line:141-164',\n",
       " 'mths_since_earliest_cr_line:165-247',\n",
       " 'mths_since_earliest_cr_line:248-270',\n",
       " 'mths_since_earliest_cr_line:271-352',\n",
       " 'mths_since_earliest_cr_line:>352',\n",
       " 'delinq_2yrs:0',\n",
       " 'delinq_2yrs:1-3',\n",
       " 'inq_last_6mths:0',\n",
       " 'inq_last_6mths:1-2',\n",
       " 'inq_last_6mths:3-6',\n",
       " 'open_acc:1-3',\n",
       " 'open_acc:4-12',\n",
       " 'open_acc:13-17',\n",
       " 'open_acc:18-22',\n",
       " 'open_acc:23-25',\n",
       " 'open_acc:26-30',\n",
       " 'open_acc:>=31',\n",
       " 'pub_rec:3-4',\n",
       " 'pub_rec:>=5',\n",
       " 'total_acc:28-51',\n",
       " 'total_acc:>=52',\n",
       " 'annual_inc:20K-30K',\n",
       " 'annual_inc:30K-40K',\n",
       " 'annual_inc:40K-50K',\n",
       " 'annual_inc:50K-60K',\n",
       " 'annual_inc:60K-70K',\n",
       " 'annual_inc:70K-80K',\n",
       " 'annual_inc:80K-90K',\n",
       " 'annual_inc:90K-100K',\n",
       " 'annual_inc:100K-120K',\n",
       " 'annual_inc:120K-140K',\n",
       " 'annual_inc:>140K',\n",
       " 'mths_since_last_delinq:Missing',\n",
       " 'mths_since_last_delinq:4-30',\n",
       " 'mths_since_last_delinq:31-56',\n",
       " 'mths_since_last_delinq:>=57',\n",
       " 'dti:<=1.4',\n",
       " 'dti:1.4-3.5',\n",
       " 'dti:3.5-7.7',\n",
       " 'dti:7.7-10.5',\n",
       " 'dti:10.5-16.1',\n",
       " 'dti:16.1-20.3',\n",
       " 'dti:20.3-21.7',\n",
       " 'dti:21.7-22.4',\n",
       " 'dti:22.4-35',\n",
       " 'mths_since_last_record:Missing',\n",
       " 'mths_since_last_record:3-20',\n",
       " 'mths_since_last_record:21-31',\n",
       " 'mths_since_last_record:32-80',\n",
       " 'mths_since_last_record:81-86',\n",
       " 'mths_since_last_record:>86']"
      ]
     },
     "execution_count": 94,
     "metadata": {},
     "output_type": "execute_result"
    }
   ],
   "source": [
    "list(df_loans.columns)"
   ]
  },
  {
   "cell_type": "code",
   "execution_count": 53,
   "metadata": {},
   "outputs": [],
   "source": [
    "from sklearn.linear_model import LogisticRegression"
   ]
  },
  {
   "cell_type": "code",
   "execution_count": 98,
   "metadata": {},
   "outputs": [],
   "source": [
    "logreg = LogisticRegression(solver = 'sag',random_state = 9)"
   ]
  },
  {
   "cell_type": "code",
   "execution_count": 95,
   "metadata": {},
   "outputs": [],
   "source": [
    "X_train = df_loans.drop('good_bad',axis = 1)"
   ]
  },
  {
   "cell_type": "code",
   "execution_count": 96,
   "metadata": {},
   "outputs": [],
   "source": [
    "y_train = df_loans['good_bad']"
   ]
  },
  {
   "cell_type": "code",
   "execution_count": 99,
   "metadata": {},
   "outputs": [
    {
     "data": {
      "text/plain": [
       "LogisticRegression(C=1.0, class_weight=None, dual=False, fit_intercept=True,\n",
       "                   intercept_scaling=1, l1_ratio=None, max_iter=100,\n",
       "                   multi_class='auto', n_jobs=None, penalty='l2',\n",
       "                   random_state=9, solver='sag', tol=0.0001, verbose=0,\n",
       "                   warm_start=False)"
      ]
     },
     "execution_count": 99,
     "metadata": {},
     "output_type": "execute_result"
    }
   ],
   "source": [
    "logreg.fit(X_train,y_train)"
   ]
  },
  {
   "cell_type": "code",
   "execution_count": 107,
   "metadata": {},
   "outputs": [],
   "source": [
    "X_test = df_OOT_loans.drop('good_bad',axis = 1)"
   ]
  },
  {
   "cell_type": "code",
   "execution_count": 108,
   "metadata": {},
   "outputs": [],
   "source": [
    "y_test = df_OOT_loans['good_bad']"
   ]
  },
  {
   "cell_type": "code",
   "execution_count": 110,
   "metadata": {},
   "outputs": [
    {
     "data": {
      "text/plain": [
       "0.8580000644962155"
      ]
     },
     "execution_count": 110,
     "metadata": {},
     "output_type": "execute_result"
    }
   ],
   "source": [
    "logreg.score(X_test,y_test)"
   ]
  },
  {
   "cell_type": "code",
   "execution_count": 286,
   "metadata": {
    "tags": [
     "woe",
     "plot"
    ]
   },
   "outputs": [
    {
     "data": {
      "image/png": "[encoded data removed]",
      "text/plain": [
       "<Figure size 1296x432 with 1 Axes>"
      ]
     },
     "metadata": {},
     "output_type": "display_data"
    }
   ],
   "source": [
    "eda.woe_discrete_plot(df_woe,rotation_of_x_axis_labels=90)"
   ]
  },
  {
   "cell_type": "markdown",
   "metadata": {},
   "source": [
    "## LGD"
   ]
  },
  {
   "cell_type": "code",
   "execution_count": 120,
   "metadata": {},
   "outputs": [
    {
     "data": {
      "text/plain": [
       "array(['Current', 'Fully Paid', 'Late (31-120 days)', 'In Grace Period',\n",
       "       'Charged Off', 'Late (16-30 days)', 'Default',\n",
       "       'Does not meet the credit policy. Status:Fully Paid',\n",
       "       'Does not meet the credit policy. Status:Charged Off'],\n",
       "      dtype=object)"
      ]
     },
     "execution_count": 120,
     "metadata": {},
     "output_type": "execute_result"
    }
   ],
   "source": [
    "df_loans['loan_status'].unique()"
   ]
  },
  {
   "cell_type": "code",
   "execution_count": 121,
   "metadata": {},
   "outputs": [],
   "source": [
    "loan_status_chargeoff = df_loans['loan_status'].isin(['Charged Off','Does not meet the credit policy. Status:Charged Off'])"
   ]
  },
  {
   "cell_type": "code",
   "execution_count": 124,
   "metadata": {},
   "outputs": [],
   "source": [
    "df_LGD_EAD = df_loans.loc[loan_status_chargeoff,['funded_amnt','recoveries','total_rec_prncp']]"
   ]
  },
  {
   "cell_type": "code",
   "execution_count": 137,
   "metadata": {},
   "outputs": [],
   "source": [
    "df_LGD_EAD['EAD'] = (df_loans['funded_amnt'] - df_loans['total_rec_prncp'])/df_loans['funded_amnt']"
   ]
  },
  {
   "cell_type": "code",
   "execution_count": 128,
   "metadata": {},
   "outputs": [],
   "source": [
    "df_LGD_EAD['LGD'] = (df_LGD_EAD['EAD'] - df_LGD_EAD['recoveries'])/df_LGD_EAD['EAD']"
   ]
  },
  {
   "cell_type": "code",
   "execution_count": null,
   "metadata": {},
   "outputs": [],
   "source": []
  },
  {
   "cell_type": "code",
   "execution_count": 132,
   "metadata": {},
   "outputs": [
    {
     "data": {
      "text/html": [
       "<div>\n",
       "<style scoped>\n",
       "    .dataframe tbody tr th:only-of-type {\n",
       "        vertical-align: middle;\n",
       "    }\n",
       "\n",
       "    .dataframe tbody tr th {\n",
       "        vertical-align: top;\n",
       "    }\n",
       "\n",
       "    .dataframe thead th {\n",
       "        text-align: right;\n",
       "    }\n",
       "</style>\n",
       "<table border=\"1\" class=\"dataframe\">\n",
       "  <thead>\n",
       "    <tr style=\"text-align: right;\">\n",
       "      <th></th>\n",
       "      <th>funded_amnt</th>\n",
       "      <th>recoveries</th>\n",
       "      <th>total_rec_prncp</th>\n",
       "      <th>EAD</th>\n",
       "      <th>LGD</th>\n",
       "    </tr>\n",
       "  </thead>\n",
       "  <tbody>\n",
       "    <tr>\n",
       "      <th>2104470</th>\n",
       "      <td>12500</td>\n",
       "      <td>7051.87</td>\n",
       "      <td>5621.13</td>\n",
       "      <td>6878.87</td>\n",
       "      <td>-2.514948e-02</td>\n",
       "    </tr>\n",
       "    <tr>\n",
       "      <th>2129080</th>\n",
       "      <td>3200</td>\n",
       "      <td>3345.54</td>\n",
       "      <td>32.51</td>\n",
       "      <td>3167.49</td>\n",
       "      <td>-5.621170e-02</td>\n",
       "    </tr>\n",
       "    <tr>\n",
       "      <th>1848107</th>\n",
       "      <td>15000</td>\n",
       "      <td>6185.05</td>\n",
       "      <td>9059.22</td>\n",
       "      <td>5940.78</td>\n",
       "      <td>-4.111750e-02</td>\n",
       "    </tr>\n",
       "    <tr>\n",
       "      <th>1948593</th>\n",
       "      <td>30000</td>\n",
       "      <td>29923.86</td>\n",
       "      <td>2823.25</td>\n",
       "      <td>27176.75</td>\n",
       "      <td>-1.010831e-01</td>\n",
       "    </tr>\n",
       "    <tr>\n",
       "      <th>1142899</th>\n",
       "      <td>30000</td>\n",
       "      <td>10397.26</td>\n",
       "      <td>19602.74</td>\n",
       "      <td>10397.26</td>\n",
       "      <td>-1.749489e-16</td>\n",
       "    </tr>\n",
       "    <tr>\n",
       "      <th>2156910</th>\n",
       "      <td>16000</td>\n",
       "      <td>16205.26</td>\n",
       "      <td>1005.88</td>\n",
       "      <td>14994.12</td>\n",
       "      <td>-8.077433e-02</td>\n",
       "    </tr>\n",
       "    <tr>\n",
       "      <th>2132894</th>\n",
       "      <td>15250</td>\n",
       "      <td>10263.12</td>\n",
       "      <td>5035.39</td>\n",
       "      <td>10214.61</td>\n",
       "      <td>-4.749080e-03</td>\n",
       "    </tr>\n",
       "    <tr>\n",
       "      <th>1789645</th>\n",
       "      <td>28000</td>\n",
       "      <td>1047.98</td>\n",
       "      <td>26974.12</td>\n",
       "      <td>1025.88</td>\n",
       "      <td>-2.154248e-02</td>\n",
       "    </tr>\n",
       "    <tr>\n",
       "      <th>1337915</th>\n",
       "      <td>14400</td>\n",
       "      <td>13926.16</td>\n",
       "      <td>1339.57</td>\n",
       "      <td>13060.43</td>\n",
       "      <td>-6.628649e-02</td>\n",
       "    </tr>\n",
       "    <tr>\n",
       "      <th>1375471</th>\n",
       "      <td>33050</td>\n",
       "      <td>29473.07</td>\n",
       "      <td>4546.77</td>\n",
       "      <td>28503.23</td>\n",
       "      <td>-3.402562e-02</td>\n",
       "    </tr>\n",
       "  </tbody>\n",
       "</table>\n",
       "</div>"
      ],
      "text/plain": [
       "         funded_amnt  recoveries  total_rec_prncp       EAD           LGD\n",
       "2104470        12500     7051.87          5621.13   6878.87 -2.514948e-02\n",
       "2129080         3200     3345.54            32.51   3167.49 -5.621170e-02\n",
       "1848107        15000     6185.05          9059.22   5940.78 -4.111750e-02\n",
       "1948593        30000    29923.86          2823.25  27176.75 -1.010831e-01\n",
       "1142899        30000    10397.26         19602.74  10397.26 -1.749489e-16\n",
       "2156910        16000    16205.26          1005.88  14994.12 -8.077433e-02\n",
       "2132894        15250    10263.12          5035.39  10214.61 -4.749080e-03\n",
       "1789645        28000     1047.98         26974.12   1025.88 -2.154248e-02\n",
       "1337915        14400    13926.16          1339.57  13060.43 -6.628649e-02\n",
       "1375471        33050    29473.07          4546.77  28503.23 -3.402562e-02"
      ]
     },
     "execution_count": 132,
     "metadata": {},
     "output_type": "execute_result"
    }
   ],
   "source": [
    "df_LGD_EAD[df_LGD_EAD['EAD'] < df_LGD_EAD['recoveries']].sample(10)\n"
   ]
  },
  {
   "cell_type": "code",
   "execution_count": 136,
   "metadata": {},
   "outputs": [
    {
     "data": {
      "text/plain": [
       "count    256673.000000\n",
       "mean          0.892836\n",
       "std           0.132254\n",
       "min           0.000000\n",
       "25%           0.857780\n",
       "50%           0.897892\n",
       "75%           1.000000\n",
       "max           1.000000\n",
       "Name: LGD, dtype: float64"
      ]
     },
     "execution_count": 136,
     "metadata": {},
     "output_type": "execute_result"
    }
   ],
   "source": [
    "df_LGD_EAD['LGD'].clip(0,1).describe()"
   ]
  },
  {
   "cell_type": "code",
   "execution_count": 138,
   "metadata": {},
   "outputs": [
    {
     "data": {
      "text/plain": [
       "count    256687.000000\n",
       "mean          0.695054\n",
       "std           0.218447\n",
       "min           0.000000\n",
       "25%           0.563918\n",
       "50%           0.743975\n",
       "75%           0.869097\n",
       "max           1.000000\n",
       "Name: EAD, dtype: float64"
      ]
     },
     "execution_count": 138,
     "metadata": {},
     "output_type": "execute_result"
    }
   ],
   "source": [
    "df_LGD_EAD['EAD'].describe()"
   ]
  },
  {
   "cell_type": "code",
   "execution_count": 134,
   "metadata": {},
   "outputs": [
    {
     "data": {
      "text/html": [
       "<div>\n",
       "<style scoped>\n",
       "    .dataframe tbody tr th:only-of-type {\n",
       "        vertical-align: middle;\n",
       "    }\n",
       "\n",
       "    .dataframe tbody tr th {\n",
       "        vertical-align: top;\n",
       "    }\n",
       "\n",
       "    .dataframe thead th {\n",
       "        text-align: right;\n",
       "    }\n",
       "</style>\n",
       "<table border=\"1\" class=\"dataframe\">\n",
       "  <thead>\n",
       "    <tr style=\"text-align: right;\">\n",
       "      <th></th>\n",
       "      <th>funded_amnt</th>\n",
       "      <th>recoveries</th>\n",
       "      <th>total_rec_prncp</th>\n",
       "      <th>EAD</th>\n",
       "      <th>LGD</th>\n",
       "    </tr>\n",
       "  </thead>\n",
       "  <tbody>\n",
       "    <tr>\n",
       "      <th>564875</th>\n",
       "      <td>6925</td>\n",
       "      <td>0.00</td>\n",
       "      <td>6925.0</td>\n",
       "      <td>0.0</td>\n",
       "      <td>NaN</td>\n",
       "    </tr>\n",
       "    <tr>\n",
       "      <th>675644</th>\n",
       "      <td>21000</td>\n",
       "      <td>0.00</td>\n",
       "      <td>21000.0</td>\n",
       "      <td>0.0</td>\n",
       "      <td>NaN</td>\n",
       "    </tr>\n",
       "    <tr>\n",
       "      <th>692510</th>\n",
       "      <td>32000</td>\n",
       "      <td>38.73</td>\n",
       "      <td>32000.0</td>\n",
       "      <td>0.0</td>\n",
       "      <td>-inf</td>\n",
       "    </tr>\n",
       "    <tr>\n",
       "      <th>697041</th>\n",
       "      <td>2550</td>\n",
       "      <td>9.11</td>\n",
       "      <td>2550.0</td>\n",
       "      <td>0.0</td>\n",
       "      <td>-inf</td>\n",
       "    </tr>\n",
       "    <tr>\n",
       "      <th>759854</th>\n",
       "      <td>14500</td>\n",
       "      <td>37.67</td>\n",
       "      <td>14500.0</td>\n",
       "      <td>0.0</td>\n",
       "      <td>-inf</td>\n",
       "    </tr>\n",
       "    <tr>\n",
       "      <th>801479</th>\n",
       "      <td>2400</td>\n",
       "      <td>0.00</td>\n",
       "      <td>2400.0</td>\n",
       "      <td>0.0</td>\n",
       "      <td>NaN</td>\n",
       "    </tr>\n",
       "    <tr>\n",
       "      <th>807340</th>\n",
       "      <td>7800</td>\n",
       "      <td>0.00</td>\n",
       "      <td>7800.0</td>\n",
       "      <td>0.0</td>\n",
       "      <td>NaN</td>\n",
       "    </tr>\n",
       "    <tr>\n",
       "      <th>811735</th>\n",
       "      <td>25000</td>\n",
       "      <td>0.00</td>\n",
       "      <td>25000.0</td>\n",
       "      <td>0.0</td>\n",
       "      <td>NaN</td>\n",
       "    </tr>\n",
       "    <tr>\n",
       "      <th>846251</th>\n",
       "      <td>9000</td>\n",
       "      <td>0.00</td>\n",
       "      <td>9000.0</td>\n",
       "      <td>0.0</td>\n",
       "      <td>NaN</td>\n",
       "    </tr>\n",
       "    <tr>\n",
       "      <th>892900</th>\n",
       "      <td>20000</td>\n",
       "      <td>19.21</td>\n",
       "      <td>20000.0</td>\n",
       "      <td>0.0</td>\n",
       "      <td>-inf</td>\n",
       "    </tr>\n",
       "    <tr>\n",
       "      <th>938876</th>\n",
       "      <td>18000</td>\n",
       "      <td>0.00</td>\n",
       "      <td>18000.0</td>\n",
       "      <td>0.0</td>\n",
       "      <td>NaN</td>\n",
       "    </tr>\n",
       "    <tr>\n",
       "      <th>1027176</th>\n",
       "      <td>8200</td>\n",
       "      <td>0.00</td>\n",
       "      <td>8200.0</td>\n",
       "      <td>0.0</td>\n",
       "      <td>NaN</td>\n",
       "    </tr>\n",
       "    <tr>\n",
       "      <th>1032985</th>\n",
       "      <td>20575</td>\n",
       "      <td>0.00</td>\n",
       "      <td>20575.0</td>\n",
       "      <td>0.0</td>\n",
       "      <td>NaN</td>\n",
       "    </tr>\n",
       "    <tr>\n",
       "      <th>1453844</th>\n",
       "      <td>12000</td>\n",
       "      <td>0.00</td>\n",
       "      <td>12000.0</td>\n",
       "      <td>0.0</td>\n",
       "      <td>NaN</td>\n",
       "    </tr>\n",
       "    <tr>\n",
       "      <th>1501840</th>\n",
       "      <td>7000</td>\n",
       "      <td>0.00</td>\n",
       "      <td>7000.0</td>\n",
       "      <td>0.0</td>\n",
       "      <td>NaN</td>\n",
       "    </tr>\n",
       "    <tr>\n",
       "      <th>1638878</th>\n",
       "      <td>29000</td>\n",
       "      <td>0.00</td>\n",
       "      <td>29000.0</td>\n",
       "      <td>0.0</td>\n",
       "      <td>NaN</td>\n",
       "    </tr>\n",
       "    <tr>\n",
       "      <th>2179161</th>\n",
       "      <td>9600</td>\n",
       "      <td>0.00</td>\n",
       "      <td>9600.0</td>\n",
       "      <td>0.0</td>\n",
       "      <td>NaN</td>\n",
       "    </tr>\n",
       "    <tr>\n",
       "      <th>2231371</th>\n",
       "      <td>7500</td>\n",
       "      <td>0.00</td>\n",
       "      <td>7500.0</td>\n",
       "      <td>0.0</td>\n",
       "      <td>NaN</td>\n",
       "    </tr>\n",
       "  </tbody>\n",
       "</table>\n",
       "</div>"
      ],
      "text/plain": [
       "         funded_amnt  recoveries  total_rec_prncp  EAD  LGD\n",
       "564875          6925        0.00           6925.0  0.0  NaN\n",
       "675644         21000        0.00          21000.0  0.0  NaN\n",
       "692510         32000       38.73          32000.0  0.0 -inf\n",
       "697041          2550        9.11           2550.0  0.0 -inf\n",
       "759854         14500       37.67          14500.0  0.0 -inf\n",
       "801479          2400        0.00           2400.0  0.0  NaN\n",
       "807340          7800        0.00           7800.0  0.0  NaN\n",
       "811735         25000        0.00          25000.0  0.0  NaN\n",
       "846251          9000        0.00           9000.0  0.0  NaN\n",
       "892900         20000       19.21          20000.0  0.0 -inf\n",
       "938876         18000        0.00          18000.0  0.0  NaN\n",
       "1027176         8200        0.00           8200.0  0.0  NaN\n",
       "1032985        20575        0.00          20575.0  0.0  NaN\n",
       "1453844        12000        0.00          12000.0  0.0  NaN\n",
       "1501840         7000        0.00           7000.0  0.0  NaN\n",
       "1638878        29000        0.00          29000.0  0.0  NaN\n",
       "2179161         9600        0.00           9600.0  0.0  NaN\n",
       "2231371         7500        0.00           7500.0  0.0  NaN"
      ]
     },
     "execution_count": 134,
     "metadata": {},
     "output_type": "execute_result"
    }
   ],
   "source": [
    "df_LGD_EAD[df_LGD_EAD['EAD'] == 0]"
   ]
  },
  {
   "cell_type": "code",
   "execution_count": 139,
   "metadata": {},
   "outputs": [],
   "source": [
    "import matplotlib.pyplot as plt\n",
    "import seaborn as sns\n",
    "sns.set()\n"
   ]
  },
  {
   "cell_type": "code",
   "execution_count": 142,
   "metadata": {},
   "outputs": [
    {
     "data": {
      "text/plain": [
       "81692"
      ]
     },
     "execution_count": 142,
     "metadata": {},
     "output_type": "execute_result"
    }
   ],
   "source": [
    "(df_LGD_EAD['LGD'].clip(0,1) == 1).sum()"
   ]
  },
  {
   "cell_type": "code",
   "execution_count": 143,
   "metadata": {},
   "outputs": [
    {
     "data": {
      "text/plain": [
       "(256687, 5)"
      ]
     },
     "execution_count": 143,
     "metadata": {},
     "output_type": "execute_result"
    }
   ],
   "source": [
    "df_LGD_EAD.shape"
   ]
  },
  {
   "cell_type": "code",
   "execution_count": 144,
   "metadata": {},
   "outputs": [
    {
     "data": {
      "text/plain": [
       "(array([  161.,   642.,   198.,   984.,   818.,   674.,  1327.,   859.,\n",
       "         1259.,  1528.,  1260.,  1751.,  1873.,  1800.,  2031.,  2302.,\n",
       "         2337.,  2702.,  2879.,  2920.,  3270.,  3436.,  3703.,  3982.,\n",
       "         4200.,  4406.,  4556.,  5265.,  5678.,  5636.,  6110.,  6592.,\n",
       "         7082.,  7157.,  7730.,  8609.,  8783.,  9157.,  9389.,  9833.,\n",
       "        10422., 10908., 10859., 11238., 11451., 12346., 11255., 10274.,\n",
       "         8128.,  4927.]),\n",
       " array([0.  , 0.02, 0.04, 0.06, 0.08, 0.1 , 0.12, 0.14, 0.16, 0.18, 0.2 ,\n",
       "        0.22, 0.24, 0.26, 0.28, 0.3 , 0.32, 0.34, 0.36, 0.38, 0.4 , 0.42,\n",
       "        0.44, 0.46, 0.48, 0.5 , 0.52, 0.54, 0.56, 0.58, 0.6 , 0.62, 0.64,\n",
       "        0.66, 0.68, 0.7 , 0.72, 0.74, 0.76, 0.78, 0.8 , 0.82, 0.84, 0.86,\n",
       "        0.88, 0.9 , 0.92, 0.94, 0.96, 0.98, 1.  ]),\n",
       " <a list of 50 Patch objects>)"
      ]
     },
     "execution_count": 144,
     "metadata": {},
     "output_type": "execute_result"
    },
    {
     "data": {
      "image/png": "[encoded data removed]",
      "text/plain": [
       "<Figure size 432x288 with 1 Axes>"
      ]
     },
     "metadata": {},
     "output_type": "display_data"
    }
   ],
   "source": [
    "plt.hist(df_LGD_EAD['EAD'],bins = 50)"
   ]
  }
 ],
 "metadata": {
  "kernelspec": {
   "display_name": "pycaret",
   "language": "python",
   "name": "pycaret"
  },
  "language_info": {
   "codemirror_mode": {
    "name": "ipython",
    "version": 3
   },
   "file_extension": ".py",
   "mimetype": "text/x-python",
   "name": "python",
   "nbconvert_exporter": "python",
   "pygments_lexer": "ipython3",
   "version": "3.6.10"
  }
 },
 "nbformat": 4,
 "nbformat_minor": 2
}
